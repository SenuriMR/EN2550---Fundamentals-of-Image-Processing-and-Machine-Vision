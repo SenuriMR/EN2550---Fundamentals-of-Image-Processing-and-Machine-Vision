{
  "cells": [
    {
      "cell_type": "markdown",
      "metadata": {},
      "source": [
        "EN2550 - Fundamentals of Image Processing and Machine Vision\n",
        "\n",
        "Excercise 01\n",
        "\n",
        "Name : R.G.S.M. RANATUNGA\n",
        "\n",
        "Index No.: 190504H"
      ]
    },
    {
      "cell_type": "markdown",
      "metadata": {},
      "source": [
        "Part 1."
      ]
    },
    {
      "cell_type": "code",
      "execution_count": 25,
      "metadata": {
        "colab": {
          "base_uri": "https://localhost:8080/"
        },
        "id": "ZaHiulwuhzev",
        "outputId": "191e0dee-6922-4b5c-96b7-f877e70599cd"
      },
      "outputs": [
        {
          "name": "stdout",
          "output_type": "stream",
          "text": [
            "1 : 1\n",
            "2 : 4\n",
            "3 : 9\n",
            "4 : 16\n",
            "5 : 25\n"
          ]
        }
      ],
      "source": [
        "for i in range(1,6):\n",
        "  print(i, ':', i**2)"
      ]
    },
    {
      "cell_type": "markdown",
      "metadata": {},
      "source": [
        "Part 2."
      ]
    },
    {
      "cell_type": "code",
      "execution_count": 26,
      "metadata": {
        "colab": {
          "base_uri": "https://localhost:8080/"
        },
        "id": "up-bPenrh8yy",
        "outputId": "2c9b8628-83fa-47e5-b0f2-513bb0dec664"
      },
      "outputs": [
        {
          "name": "stdout",
          "output_type": "stream",
          "text": [
            "1 : 1\n",
            "4 : 16\n"
          ]
        }
      ],
      "source": [
        "import sympy\n",
        "for i in range(1,6):\n",
        "  if not sympy.isprime(i):\n",
        "    print(i, ':', i**2)"
      ]
    },
    {
      "cell_type": "markdown",
      "metadata": {},
      "source": [
        "Part 3."
      ]
    },
    {
      "cell_type": "code",
      "execution_count": 27,
      "metadata": {
        "colab": {
          "base_uri": "https://localhost:8080/"
        },
        "id": "5DAW4XOLiUrk",
        "outputId": "feea6967-45e8-426f-8d96-e1e3c3ddcca7"
      },
      "outputs": [
        {
          "name": "stdout",
          "output_type": "stream",
          "text": [
            "1 : 1\n",
            "2 : 4\n",
            "3 : 9\n",
            "4 : 16\n",
            "5 : 25\n"
          ]
        }
      ],
      "source": [
        "squares = [i**2 for i in range(1,6)]\n",
        "for i,i2 in enumerate(squares):\n",
        "  print(i+1, ':', i2)\n"
      ]
    },
    {
      "cell_type": "markdown",
      "metadata": {},
      "source": [
        "Part 4."
      ]
    },
    {
      "cell_type": "code",
      "execution_count": 28,
      "metadata": {
        "colab": {
          "base_uri": "https://localhost:8080/"
        },
        "id": "_ZKZoqa0jv51",
        "outputId": "a73ed326-3325-4409-a657-d6c673befcf9"
      },
      "outputs": [
        {
          "name": "stdout",
          "output_type": "stream",
          "text": [
            "1 : 1\n",
            "4 : 16\n"
          ]
        }
      ],
      "source": [
        "non_prime = [i for i in range(1,6) if not sympy.isprime(i)]\n",
        "for i,i2 in enumerate(non_prime):\n",
        "  print(i2, ':', i2**2)"
      ]
    },
    {
      "cell_type": "markdown",
      "metadata": {},
      "source": [
        "Part 5. a)"
      ]
    },
    {
      "cell_type": "code",
      "execution_count": 29,
      "metadata": {
        "colab": {
          "base_uri": "https://localhost:8080/"
        },
        "id": "vpel8gAcmKnC",
        "outputId": "f0ee8da3-a16d-4c98-a720-607e333c5d3b"
      },
      "outputs": [
        {
          "name": "stdout",
          "output_type": "stream",
          "text": [
            "[[ 9 12 15  9]\n",
            " [25 32 39 19]\n",
            " [41 52 63 29]]\n"
          ]
        }
      ],
      "source": [
        "import numpy as np\n",
        "A = np.array([[1,2],[3,4],[5,6]])\n",
        "B = np.array([[7,8,9,1],[1,2,3,4]])\n",
        "C = np.matmul(A,B)\n",
        "print(C)"
      ]
    },
    {
      "cell_type": "markdown",
      "metadata": {},
      "source": [
        "Part 5. b)"
      ]
    },
    {
      "cell_type": "code",
      "execution_count": 30,
      "metadata": {
        "colab": {
          "base_uri": "https://localhost:8080/"
        },
        "id": "2LoDgNQ_nthX",
        "outputId": "0e31f95b-7361-45de-eb40-fbdb52a9ba53"
      },
      "outputs": [
        {
          "name": "stdout",
          "output_type": "stream",
          "text": [
            "[[ 3  4]\n",
            " [15 16]\n",
            " [15  6]]\n"
          ]
        }
      ],
      "source": [
        "A = np.array([[1,2],[3,4],[5,6]])\n",
        "B = np.array([[3,2],[5,4],[3,1]])\n",
        "C = np.multiply(A,B)\n",
        "print(C)"
      ]
    },
    {
      "cell_type": "markdown",
      "metadata": {},
      "source": [
        "Part 6."
      ]
    },
    {
      "cell_type": "code",
      "execution_count": 32,
      "metadata": {
        "colab": {
          "base_uri": "https://localhost:8080/"
        },
        "id": "gTjDsw4goHfn",
        "outputId": "69f98c93-9c2b-4e83-9093-6b812c3c3afe"
      },
      "outputs": [
        {
          "name": "stdout",
          "output_type": "stream",
          "text": [
            "[[3 9 2 0 8 1 1]\n",
            " [0 3 5 8 1 4 7]\n",
            " [5 2 5 9 9 6 9]\n",
            " [6 7 5 7 7 2 5]\n",
            " [5 6 3 9 9 3 8]]\n"
          ]
        }
      ],
      "source": [
        "X = np.random.randint(10, size=(5,7))\n",
        "print(X)"
      ]
    },
    {
      "cell_type": "code",
      "execution_count": 49,
      "metadata": {
        "colab": {
          "base_uri": "https://localhost:8080/"
        },
        "id": "p2Xm6NqRpT1L",
        "outputId": "7bebd18c-8b36-4281-e794-2c0f21e9e5e4"
      },
      "outputs": [
        {
          "data": {
            "text/plain": [
              "array([[1., 2.],\n",
              "       [1., 3.],\n",
              "       [1., 4.]])"
            ]
          },
          "execution_count": 49,
          "metadata": {},
          "output_type": "execute_result"
        }
      ],
      "source": [
        "X[2:5,0:2] #slicing"
      ]
    },
    {
      "cell_type": "markdown",
      "metadata": {},
      "source": [
        "Part 7."
      ]
    },
    {
      "cell_type": "code",
      "execution_count": 54,
      "metadata": {
        "colab": {
          "base_uri": "https://localhost:8080/"
        },
        "id": "RBAZ4--T2QKV",
        "outputId": "141ebae4-17ab-463e-fee8-2796fcbe698a"
      },
      "outputs": [
        {
          "name": "stdout",
          "output_type": "stream",
          "text": [
            "ex1 = [[5 6 7]\n",
            " [6 7 8]\n",
            " [7 8 9]]\n",
            "ex2 = [[ 2  4  6]\n",
            " [ 8 10 12]\n",
            " [14 16 18]\n",
            " [20 22 24]]\n",
            "ex3 = [ 4 10 18]\n"
          ]
        }
      ],
      "source": [
        "x = np.array([[1], [2], [3]])\n",
        "y = np.array([4, 5, 6])\n",
        "\n",
        "print('ex1 =',x+y)\n",
        "\n",
        "x = np.array([[1,2,3], [4,5,6], [7,8,9], [10, 11, 12]])\n",
        "v = 2\n",
        "\n",
        "print('ex2 =',x*v)\n",
        "\n",
        "x = np.array([1, 2, 3])\n",
        "y = np.array([4, 5, 6])\n",
        "\n",
        "print('ex3 =',x*y)\n"
      ]
    },
    {
      "cell_type": "markdown",
      "metadata": {},
      "source": [
        "Part 8."
      ]
    },
    {
      "cell_type": "code",
      "execution_count": 3,
      "metadata": {
        "colab": {
          "base_uri": "https://localhost:8080/",
          "height": 265
        },
        "id": "aSHwxh-W3v39",
        "outputId": "1cde49c4-8ae1-4b4c-eea3-eaf90961e21f"
      },
      "outputs": [
        {
          "name": "stdout",
          "output_type": "stream",
          "text": [
            "[[-12.17740669]\n",
            " [  2.92184283]]\n"
          ]
        },
        {
          "data": {
            "image/png": "[encoded data removed]",
            "text/plain": [
              "<Figure size 432x288 with 1 Axes>"
            ]
          },
          "metadata": {
            "needs_background": "light"
          },
          "output_type": "display_data"
        }
      ],
      "source": [
        "import matplotlib.pyplot as plt\n",
        "\n",
        "m,c = 2,-4\n",
        "N = 10\n",
        "x = np.linspace(0,N-1,N).reshape(N, 1)\n",
        "sigma = 10\n",
        "y = m*x + c + np.random.normal(0 , sigma , (N, 1))\n",
        "plt.scatter(x,y)\n",
        "\n",
        "X = np.append(np.ones((N,1)), x, axis=1)\n",
        "\n",
        "Y = np.linalg.inv(X.T @ X)@ X.T @ y\n",
        "print(Y)"
      ]
    },
    {
      "cell_type": "markdown",
      "metadata": {},
      "source": [
        "Part 10."
      ]
    },
    {
      "cell_type": "code",
      "execution_count": 48,
      "metadata": {
        "colab": {
          "base_uri": "https://localhost:8080/",
          "height": 235
        },
        "id": "2j8Av42Nq_U5",
        "outputId": "1bfb244f-2583-4975-ff76-5e7c38c9857f"
      },
      "outputs": [],
      "source": [
        "import cv2 as cv\n",
        "\n",
        "im = cv.imread(r'./Images/gal_gaussian.png')\n",
        "\n",
        "blur = cv.GaussianBlur(im,(5,5),0)\n",
        "\n",
        "cv.namedWindow('Image',cv.WINDOW_AUTOSIZE)\n",
        "cv.imshow('Image',im)\n",
        "cv.waitKey(0)\n",
        "cv.imshow('Image',blur)\n",
        "cv.waitKey(0)\n",
        "cv.destroyAllWindows()"
      ]
    },
    {
      "cell_type": "markdown",
      "metadata": {},
      "source": [
        "Part 11."
      ]
    },
    {
      "cell_type": "code",
      "execution_count": 47,
      "metadata": {},
      "outputs": [],
      "source": [
        "import cv2 as cv\n",
        "\n",
        "im = cv.imread(r'./Images/gal_sandp.png')\n",
        "\n",
        "median = cv.medianBlur(im,5)\n",
        "\n",
        "cv.namedWindow('Image',cv.WINDOW_AUTOSIZE)\n",
        "cv.imshow('Image',im)\n",
        "cv.waitKey(0)\n",
        "cv.imshow('Image',median)\n",
        "cv.waitKey(0)\n",
        "cv.destroyAllWindows()"
      ]
    },
    {
      "cell_type": "markdown",
      "metadata": {},
      "source": [
        "Part 12."
      ]
    },
    {
      "cell_type": "code",
      "execution_count": 4,
      "metadata": {},
      "outputs": [
        {
          "data": {
            "image/png": "[encoded data removed]",
            "text/plain": [
              "<Figure size 432x288 with 1 Axes>"
            ]
          },
          "metadata": {
            "needs_background": "light"
          },
          "output_type": "display_data"
        }
      ],
      "source": [
        "import numpy as np\n",
        "import cv2 as cv\n",
        "\n",
        "im = np.zeros((40,60),dtype = np.uint8)\n",
        "\n",
        "im[0:21, 30:61] = 125\n",
        "\n",
        "fig,ax = plt.subplots()\n",
        "ax.imshow(im, cmap= 'gray', vmin=0 , vmax=255)\n",
        "plt.show()"
      ]
    },
    {
      "cell_type": "markdown",
      "metadata": {},
      "source": [
        "Part 13."
      ]
    },
    {
      "cell_type": "code",
      "execution_count": 39,
      "metadata": {},
      "outputs": [],
      "source": [
        "import numpy as np\n",
        "import cv2 as cv\n",
        "\n",
        "im = np.zeros((40,60,3), dtype = np.uint8)\n",
        "\n",
        "im[20:41, 0:31] = [132,24,218]\n",
        "\n",
        "cv.imshow('Image',im)\n",
        "cv.waitKey()\n",
        "cv.destroyAllWindows()\n"
      ]
    },
    {
      "cell_type": "markdown",
      "metadata": {},
      "source": [
        "Part 14."
      ]
    },
    {
      "cell_type": "code",
      "execution_count": 45,
      "metadata": {},
      "outputs": [],
      "source": [
        "import cv2 as cv\n",
        "import numpy as np\n",
        "\n",
        "im = cv.imread(r'./Images/tom_dark.jpg')\n",
        "\n",
        "beta = 75\n",
        "\n",
        "new_im = im + beta\n",
        "\n",
        "cv.imshow('Original Image', im)\n",
        "cv.imshow('New Image', new_im)\n",
        "\n",
        "cv.waitKey()\n",
        "cv.destroyAllWindows()\n"
      ]
    },
    {
      "cell_type": "markdown",
      "metadata": {},
      "source": [
        "Part 9. a)"
      ]
    },
    {
      "cell_type": "code",
      "execution_count": 21,
      "metadata": {},
      "outputs": [
        {
          "name": "stdout",
          "output_type": "stream",
          "text": [
            "S =  0.00035000000000000005\n",
            "S0 =  0.02069854468473848\n"
          ]
        }
      ],
      "source": [
        "import numpy as np\n",
        "a = 35\n",
        "n = -2.5\n",
        "S = a*10**(2*n)\n",
        "\n",
        "S0 = ((-190/(a+20))+10)*10**n\n",
        "print('S = ',S)\n",
        "print('S0 = ',S0)"
      ]
    },
    {
      "cell_type": "markdown",
      "metadata": {},
      "source": [
        "Part 9. b)"
      ]
    },
    {
      "cell_type": "code",
      "execution_count": 22,
      "metadata": {},
      "outputs": [
        {
          "name": "stdout",
          "output_type": "stream",
          "text": [
            "S^0.5 =  0.018803973031013867\n"
          ]
        }
      ],
      "source": [
        "import numpy as np\n",
        "\n",
        "f = lambda x: x**2 - S\n",
        "f_prime = lambda x: 2*x\n",
        "newton_raphson = S0 - (f(S0))/(f_prime(S0))\n",
        "print(\"S^0.5 = \" ,newton_raphson)"
      ]
    },
    {
      "cell_type": "markdown",
      "metadata": {},
      "source": [
        "Part 9. c)"
      ]
    },
    {
      "cell_type": "code",
      "execution_count": 44,
      "metadata": {},
      "outputs": [
        {
          "name": "stdout",
          "output_type": "stream",
          "text": [
            "square root of 64 is 8.000185290224996\n",
            "square root of 75 is 8.66329604130809\n",
            "square root of 100 is 10.011904761904761\n",
            "square root of 1600 is 40.552287581699346\n"
          ]
        }
      ],
      "source": [
        "num = [64, 75, 100, 1600]\n",
        "n = 1\n",
        "for i in range(4):\n",
        "    S = num[i]\n",
        "    a = (S/(10**(2*n)))\n",
        "    S0 = ((-190/(a+20))+10)*10**n\n",
        "\n",
        "    f = lambda x: x**2 - S\n",
        "    f_prime = lambda x: 2*x\n",
        "    newton_raphson = S0 - (f(S0))/(f_prime(S0))\n",
        "    print('square root of', S,'is',newton_raphson)"
      ]
    }
  ],
  "metadata": {
    "colab": {
      "name": "Exercise_01.ipynb",
      "provenance": []
    },
    "kernelspec": {
      "display_name": "Python 3",
      "name": "python3"
    },
    "language_info": {
      "codemirror_mode": {
        "name": "ipython",
        "version": 3
      },
      "file_extension": ".py",
      "mimetype": "text/x-python",
      "name": "python",
      "nbconvert_exporter": "python",
      "pygments_lexer": "ipython3",
      "version": "3.9.0"
    }
  },
  "nbformat": 4,
  "nbformat_minor": 0
}
