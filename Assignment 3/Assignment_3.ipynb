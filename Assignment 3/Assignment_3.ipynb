{
 "cells": [
  {
   "cell_type": "markdown",
   "metadata": {},
   "source": [
    "EN2550 - Fundementals of Image Processing and Machine Vision [Assignment 3 - Object counting on a conveyer belt]\n",
    "\n",
    "Name : R.G.S.M. RANATUNGA\n",
    "\n",
    "Index No. : 190504H"
   ]
  },
  {
   "cell_type": "markdown",
   "metadata": {},
   "source": [
    "# Connected Component Analysis"
   ]
  },
  {
   "cell_type": "markdown",
   "metadata": {},
   "source": [
    "In this part, we will generate an indexed image representing connected components in conveyor_f101.png image. Notice that, as there are three square nuts and one hexagonal nut in the image, there will be five connected components (backgound will be assigned the label 0)."
   ]
  },
  {
   "cell_type": "markdown",
   "metadata": {},
   "source": [
    "1. Open the hexnut_template.png, squarenut_template.png and conveyor_f100.png and display. This is done for you."
   ]
  },
  {
   "cell_type": "code",
   "execution_count": 1,
   "metadata": {},
   "outputs": [],
   "source": [
    "import cv2 as cv\n",
    "import numpy as np\n",
    "import matplotlib.pyplot as plt"
   ]
  },
  {
   "cell_type": "code",
   "execution_count": 13,
   "metadata": {},
   "outputs": [
    {
     "data": {
      "image/png": "[encoded data removed]",
      "text/plain": [
       "<Figure size 864x360 with 3 Axes>"
      ]
     },
     "metadata": {
      "needs_background": "light"
     },
     "output_type": "display_data"
    }
   ],
   "source": [
    "hexnut_template = cv.imread('hexnut_template.png', cv.IMREAD_COLOR)\n",
    "squarenut_template =  cv.imread('squarenut_template.png', cv.IMREAD_COLOR)\n",
    "conveyor_f100 =  cv.imread('conveyor_f100.png', cv.IMREAD_COLOR)\n",
    "\n",
    "fig, ax = plt. subplots(1,3,figsize = (12,5))\n",
    "ax[0].set_title('Hexnut template')\n",
    "ax[0].imshow(cv.cvtColor(hexnut_template, cv.COLOR_RGB2BGR))\n",
    "ax[0].axis('off')\n",
    "ax[1].set_title('Squarenut template')\n",
    "ax[1].imshow(cv.cvtColor(squarenut_template, cv.COLOR_RGB2BGR))\n",
    "ax[1].axis('off')\n",
    "ax[2].set_title('Conveyor')\n",
    "ax[2].imshow(cv.cvtColor(conveyor_f100, cv.COLOR_RGB2BGR))\n",
    "ax[2].axis('off')\n",
    "plt.show()"
   ]
  },
  {
   "cell_type": "markdown",
   "metadata": {},
   "source": [
    "2. Convert the images to grayscale and apply Otsu's thresholding to obtain the binarized image. Do this for both the templates and belt images. State the threshold value (automatically) selected in the operation. Display the output images."
   ]
  },
  {
   "cell_type": "code",
   "execution_count": 21,
   "metadata": {},
   "outputs": [
    {
     "name": "stdout",
     "output_type": "stream",
     "text": [
      "Threshold value of hexnut template - 8\n",
      "Threshold value of squarenut template - 8\n",
      "Threshold value of coveyor - 8\n"
     ]
    },
    {
     "data": {
      "text/plain": [
       "(-0.5, 1919.5, 1079.5, -0.5)"
      ]
     },
     "execution_count": 21,
     "metadata": {},
     "output_type": "execute_result"
    },
    {
     "data": {
      "image/png": "[encoded data removed]",
      "text/plain": [
       "<Figure size 864x360 with 3 Axes>"
      ]
     },
     "metadata": {
      "needs_background": "light"
     },
     "output_type": "display_data"
    }
   ],
   "source": [
    "# Your code here.\n",
    "img1 = cv.cvtColor(hexnut_template, cv.COLOR_BGR2GRAY)\n",
    "img2 = cv.cvtColor(squarenut_template, cv.COLOR_BGR2GRAY)\n",
    "img3 = cv.cvtColor(conveyor_f100, cv.COLOR_BGR2GRAY)\n",
    "\n",
    "ret1,th1 = cv.threshold(img1,0,255,cv.THRESH_BINARY+cv.THRESH_OTSU)\n",
    "print(\"Threshold value of hexnut template -\",cv.THRESH_OTSU)\n",
    "ret2,th2 = cv.threshold(img2,0,255,cv.THRESH_BINARY+cv.THRESH_OTSU)\n",
    "print(\"Threshold value of squarenut template -\",cv.THRESH_OTSU)\n",
    "ret3,th3 = cv.threshold(img3,0,255,cv.THRESH_BINARY+cv.THRESH_OTSU)\n",
    "print(\"Threshold value of coveyor -\",cv.THRESH_OTSU)\n",
    "\n",
    "fig,ax = plt.subplots(1,3,figsize = (12, 5))\n",
    "\n",
    "ax[0].set_title('Hexnut template')\n",
    "ax[0].imshow(th1,'gray')\n",
    "ax[0].axis('off')\n",
    "ax[1].set_title('Squarenut template')\n",
    "ax[1].imshow(th2,'gray')\n",
    "ax[1].axis('off')\n",
    "ax[2].set_title('Conveyor')\n",
    "ax[2].imshow(th3,'gray')\n",
    "ax[2].axis('off')"
   ]
  },
  {
   "cell_type": "markdown",
   "metadata": {},
   "source": [
    "3. Carry out morphological closing to remove small holes inside the foreground. Use a 3×3 kernel."
   ]
  },
  {
   "cell_type": "code",
   "execution_count": null,
   "metadata": {},
   "outputs": [],
   "source": [
    "# Your code here."
   ]
  },
  {
   "cell_type": "markdown",
   "metadata": {},
   "source": [
    "4. Connected components analysis: apply the connectedComponentsWithStats function and display the outputs as colormapped images. Answer the following questions.\n",
    "- How many connected components are detected in each image?\n",
    "- What are the statistics? Interpret these statistics.\n",
    "- What are the centroids?\n",
    "\n",
    "For the hexnut template, you should get the object area in pixel as approximately 4728."
   ]
  },
  {
   "cell_type": "code",
   "execution_count": null,
   "metadata": {},
   "outputs": [],
   "source": [
    "# Your code here."
   ]
  },
  {
   "cell_type": "markdown",
   "metadata": {},
   "source": [
    "5. Contour analysis: Use findContours function to retrieve the extreme outer contours. \n",
    "\n",
    "Display these contours."
   ]
  },
  {
   "cell_type": "code",
   "execution_count": null,
   "metadata": {},
   "outputs": [],
   "source": [
    "# Your code here."
   ]
  },
  {
   "cell_type": "markdown",
   "metadata": {},
   "source": [
    "# Detecting Objects on a Synthetic Conveyor"
   ]
  },
  {
   "cell_type": "markdown",
   "metadata": {},
   "source": [
    "In this section, we will use the synthetic conveyor.mp4 sequence to count the two types of nuts."
   ]
  },
  {
   "cell_type": "markdown",
   "metadata": {},
   "source": [
    "1. Open the sequence and play it using the code below."
   ]
  },
  {
   "cell_type": "code",
   "execution_count": null,
   "metadata": {},
   "outputs": [],
   "source": [
    "cv.namedWindow('Conveyor', cv.WINDOW_NORMAL)\n",
    "cap = cv.VideoCapture('conveyor.mp4')\n",
    "f = 0\n",
    "frame = []      \n",
    "while cap.isOpened():                                    \n",
    "    ret, frame = cap.read()\n",
    "    if not ret:\n",
    "        print(\"Can't receive frame (stream end?). Exiting.\")\n",
    "        break\n",
    "\n",
    "    f += 1\n",
    "    text = 'Frame:' + str(f)\n",
    "    cv.putText(frame,text , (100, 100), cv.FONT_HERSHEY_COMPLEX, 1, (0,250,0), 1, cv.LINE_AA)\n",
    "    cv.imshow('Conveyor', frame)\n",
    "\n",
    "    if cv.waitKey(1) == ord('q'):  \n",
    "        break\n",
    "\n",
    "cap.release()\n",
    "cv.destroyAllWindows()"
   ]
  },
  {
   "cell_type": "code",
   "execution_count": null,
   "metadata": {},
   "outputs": [],
   "source": [
    "# Your code here."
   ]
  },
  {
   "cell_type": "markdown",
   "metadata": {},
   "source": [
    "2. Count the number of matching hexagonal nuts in conveyor_f100.png. You can use matchCountours function to match contours in each frame with that in the template."
   ]
  },
  {
   "cell_type": "markdown",
   "metadata": {},
   "source": [
    "\n",
    "3. Count the number of objects that were conveyed along the conveyor belt: Display the count in the current frame and total count upto the current frame in the output video. Please compress your video (using Handbreak or otherwise) before uploading. It would be good to experiment first with the two adjacent frames conveyor_f100.png and conveyor_f101.png. In order to disregard partially appearing nuts, consider comparing the contour area in addition to using the matchCountours function."
   ]
  },
  {
   "cell_type": "code",
   "execution_count": null,
   "metadata": {},
   "outputs": [],
   "source": [
    "# Yor code here.\n",
    "\n",
    "\n",
    "# Writing the video\n",
    "\n",
    "frame_array = []\n",
    "shape = (1080, 1920, 3)\n",
    "\n",
    "# Your code here.\n",
    "\n",
    "\n",
    "out = cv.VideoWriter('./conveyor_result_indexno.mp4',cv.VideoWriter_fourcc(*'h264'), 30, (shape[1], shape[0]))\n",
    " \n",
    "for i in range(len(frame_array)):\n",
    "    cv.imshow('Frame', frame_array[i])\n",
    "    if cv.waitKey(1) == ord('q'):\n",
    "        break\n",
    "    out.write(frame_array[i])\n",
    "\n",
    "out.release()\n",
    "cv.destroyAllWindows()"
   ]
  }
 ],
 "metadata": {
  "interpreter": {
   "hash": "7a9f2f2295099d17f1fc40ab68038f2443747dd3e507b8aa54f03d6e7555853d"
  },
  "kernelspec": {
   "display_name": "Python 3.9.10 64-bit",
   "language": "python",
   "name": "python3"
  },
  "language_info": {
   "codemirror_mode": {
    "name": "ipython",
    "version": 3
   },
   "file_extension": ".py",
   "mimetype": "text/x-python",
   "name": "python",
   "nbconvert_exporter": "python",
   "pygments_lexer": "ipython3",
   "version": "3.9.10"
  },
  "orig_nbformat": 4
 },
 "nbformat": 4,
 "nbformat_minor": 2
}
